{
 "cells": [
  {
   "cell_type": "code",
   "execution_count": 1,
   "id": "449311f8-2cf0-458e-b8df-6ed5354f7ca8",
   "metadata": {},
   "outputs": [],
   "source": [
    "import numpy as np\n",
    "from scipy.stats import multivariate_normal\n",
    "from scipy.special import logsumexp"
   ]
  },
  {
   "cell_type": "code",
   "execution_count": 2,
   "id": "414489b6-9f44-46f8-93d2-e927644a9a72",
   "metadata": {},
   "outputs": [],
   "source": [
    "def generate_z(A,b,K,cov,x):\n",
    "    z_O = []\n",
    "    z_E = []\n",
    "    for i in range(int(2**K)):\n",
    "        z_O.append(np.random.multivariate_normal(A*x+b, (2/3)*cov))\n",
    "        z_E.append(np.random.multivariate_normal(A*x+b, (2/3)*cov))\n",
    "    z = z_O.copy()\n",
    "    z.extend(z_E)\n",
    "    return z, z_O, z_E"
   ]
  },
  {
   "cell_type": "code",
   "execution_count": 12,
   "id": "03586c6c-cc41-4ab0-8678-28e2ae140c37",
   "metadata": {},
   "outputs": [],
   "source": [
    "def generate_q_p(A,b,K,mean,cov,x,z,z_O,z_E):\n",
    "    q = []\n",
    "    p = []\n",
    "    q_O = []\n",
    "    p_O = []\n",
    "    q_E = []\n",
    "    p_E = []\n",
    "    for i in range(int(2**(K+1))):\n",
    "        q.append(multivariate_normal.pdf(z[i], mean=A*x+b, cov=(2/3)*cov))\n",
    "        p.append(multivariate_normal.pdf(z[i], mean=mean, cov=cov)*multivariate_normal.pdf(x, mean=z[i], cov=cov))\n",
    "    for i in range(int(2**(K))):\n",
    "        q_O.append(multivariate_normal.pdf(z_O[i], mean=A*x+b, cov=(2/3)*cov))\n",
    "        p_O.append(multivariate_normal.pdf(z_O[i], mean=mean, cov=cov)*multivariate_normal.pdf(x, mean=z_O[i], cov=cov))\n",
    "        q_E.append(multivariate_normal.pdf(z_E[i], mean=A*x+b, cov=(2/3)*cov))\n",
    "        p_E.append(multivariate_normal.pdf(z_E[i], mean=mean, cov=cov)*multivariate_normal.pdf(x, mean=z_E[i], cov=cov))\n",
    "    return q, p, q_O, p_O, q_E, p_E"
   ]
  },
  {
   "cell_type": "code",
   "execution_count": 31,
   "id": "37476219-f85e-46d4-8f9d-7eeaaf68619b",
   "metadata": {},
   "outputs": [],
   "source": [
    "def ss_estimator(n_sim, mean, cov, A, b, r):\n",
    "    ss = []\n",
    "    for i in range(n_sim):\n",
    "        K = np.random.geometric(r, 1)\n",
    "        x = np.random.multivariate_normal(mean, cov)\n",
    "        z, z_O, z_E = generate_z(A,b,K,cov,x)\n",
    "        q, p, q_O, p_O, q_E, p_E = generate_q_p(A,b,K,mean,cov,x,z,z_O,z_E)\n",
    "        w = np.log(p) - np.log(q)\n",
    "        w_O = np.log(p_O) - np.log(q_O)\n",
    "        w_E = np.log(p_E) - np.log(q_E)\n",
    "            \n",
    "        #third step : compute I0\n",
    "        I0 = w.mean()\n",
    "\n",
    "        #fourth step : compute Lo and Le\n",
    "            # Lo\n",
    "        l_O = logsumexp(w_O) - np.log(len(w_O))    \n",
    "            #Le\n",
    "        l_E = logsumexp(w_E) - np.log(len(w_E))    \n",
    "\n",
    "        #fifth step : compute L_O_E\n",
    "        L_O_E = logsumexp(w) - np.log(len(w))\n",
    "    \n",
    "        #DeltaK\n",
    "        DeltaK = L_O_E - 0.5*(l_O + l_E)\n",
    "    \n",
    "        #sixth step : compute the final estimator\n",
    "        ml_ll_ss = I0 + (DeltaK/(r*(1-r)**(int(K)-1)))\n",
    "        \n",
    "        ss.append(ml_ll_ss)\n",
    "    mean_value = np.mean(ss)\n",
    "    std_error_value = np.std(ss) / np.sqrt(len(ss))\n",
    "\n",
    "    return print(\"Mean: \" + str(mean_value) + \"\\n\" + \"Standard error: \" + str(std_error_value))"
   ]
  },
  {
   "cell_type": "code",
   "execution_count": 34,
   "id": "ea4a0791-5ca1-4a51-be12-0c860dd749f9",
   "metadata": {},
   "outputs": [
    {
     "name": "stdout",
     "output_type": "stream",
     "text": [
      "Mean: -32.09347302238631\n",
      "Standard error: 0.34421861198197456\n"
     ]
    }
   ],
   "source": [
    "ss_estimator(1000, np.zeros(20), np.identity(20), 1, 0, 0.6)"
   ]
  },
  {
   "cell_type": "code",
   "execution_count": null,
   "id": "90b66043-3986-44f7-bcbd-c04a204c1012",
   "metadata": {},
   "outputs": [],
   "source": []
  }
 ],
 "metadata": {
  "kernelspec": {
   "display_name": "Python 3 (ipykernel)",
   "language": "python",
   "name": "python3"
  },
  "language_info": {
   "codemirror_mode": {
    "name": "ipython",
    "version": 3
   },
   "file_extension": ".py",
   "mimetype": "text/x-python",
   "name": "python",
   "nbconvert_exporter": "python",
   "pygments_lexer": "ipython3",
   "version": "3.9.13"
  }
 },
 "nbformat": 4,
 "nbformat_minor": 5
}
