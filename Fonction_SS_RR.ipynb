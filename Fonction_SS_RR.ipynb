{
 "cells": [
  {
   "cell_type": "code",
   "execution_count": 1,
   "id": "449311f8-2cf0-458e-b8df-6ed5354f7ca8",
   "metadata": {},
   "outputs": [],
   "source": [
    "import numpy as np\n",
    "from scipy.stats import multivariate_normal\n",
    "from scipy.special import logsumexp\n",
    "import matplotlib.pyplot as plt"
   ]
  },
  {
   "cell_type": "markdown",
   "id": "f4f4e17a-372c-4563-b1a6-0293b4322b25",
   "metadata": {},
   "source": [
    "# **1) GENERATION DES DONNEES**"
   ]
  },
  {
   "cell_type": "code",
   "execution_count": 2,
   "id": "414489b6-9f44-46f8-93d2-e927644a9a72",
   "metadata": {},
   "outputs": [],
   "source": [
    "def generate_z(A,b,K,cov,x):\n",
    "    z_O = []\n",
    "    z_E = []\n",
    "    for i in range(int(2**K)):\n",
    "        z_O.append(np.random.multivariate_normal(A*x+b, (2/3)*cov))\n",
    "        z_E.append(np.random.multivariate_normal(A*x+b, (2/3)*cov))\n",
    "    z = z_O.copy()\n",
    "    z.extend(z_E)\n",
    "    return z, z_O, z_E"
   ]
  },
  {
   "cell_type": "code",
   "execution_count": 3,
   "id": "03586c6c-cc41-4ab0-8678-28e2ae140c37",
   "metadata": {},
   "outputs": [],
   "source": [
    "def generate_q_p(A,b,K,mean,cov,x,z,z_O,z_E):\n",
    "    q = []\n",
    "    p = []\n",
    "    q_O = []\n",
    "    p_O = []\n",
    "    q_E = []\n",
    "    p_E = []\n",
    "    for i in range(int(2**(K+1))):\n",
    "        q.append(multivariate_normal.pdf(z[i], mean=A*x+b, cov=(2/3)*cov))\n",
    "        p.append(multivariate_normal.pdf(z[i], mean=mean, cov=cov)*multivariate_normal.pdf(x, mean=z[i], cov=cov))\n",
    "    for i in range(int(2**(K))):\n",
    "        q_O.append(multivariate_normal.pdf(z_O[i], mean=A*x+b, cov=(2/3)*cov))\n",
    "        p_O.append(multivariate_normal.pdf(z_O[i], mean=mean, cov=cov)*multivariate_normal.pdf(x, mean=z_O[i], cov=cov))\n",
    "        q_E.append(multivariate_normal.pdf(z_E[i], mean=A*x+b, cov=(2/3)*cov))\n",
    "        p_E.append(multivariate_normal.pdf(z_E[i], mean=mean, cov=cov)*multivariate_normal.pdf(x, mean=z_E[i], cov=cov))\n",
    "    return q, p, q_O, p_O, q_E, p_E"
   ]
  },
  {
   "cell_type": "markdown",
   "id": "39a828b9-dca2-45df-b248-a5e8f491665e",
   "metadata": {},
   "source": [
    "# **2) FONCTION POUR SS**"
   ]
  },
  {
   "cell_type": "code",
   "execution_count": 4,
   "id": "37476219-f85e-46d4-8f9d-7eeaaf68619b",
   "metadata": {},
   "outputs": [],
   "source": [
    "def SS_estimator(n_sim, mean, cov, A, b, r, theta):\n",
    "    ss = []\n",
    "    for i in range(n_sim):\n",
    "        K = np.random.geometric(r, 1)\n",
    "        x = np.random.multivariate_normal(np.zeros(20)+theta, 2*cov)\n",
    "        z, z_O, z_E = generate_z(A,b,K,cov,x)\n",
    "        q, p, q_O, p_O, q_E, p_E = generate_q_p(A,b,K,mean,cov,x,z,z_O,z_E)\n",
    "        w = np.log(p) - np.log(q)\n",
    "        w_O = np.log(p_O) - np.log(q_O)\n",
    "        w_E = np.log(p_E) - np.log(q_E)\n",
    "            \n",
    "        #third step : compute I0\n",
    "        I0 = w.mean()\n",
    "\n",
    "        #fourth step : compute Lo and Le\n",
    "            # Lo\n",
    "        l_O = logsumexp(w_O) - np.log(len(w_O))    \n",
    "            #Le\n",
    "        l_E = logsumexp(w_E) - np.log(len(w_E))    \n",
    "\n",
    "        #fifth step : compute L_O_E\n",
    "        L_O_E = logsumexp(w) - np.log(len(w))\n",
    "    \n",
    "        #DeltaK\n",
    "        DeltaK = L_O_E - 0.5*(l_O + l_E)\n",
    "    \n",
    "        #sixth step : compute the final estimator\n",
    "        ml_ll_ss = I0 + (DeltaK/(r*(1-r)**(int(K)-1)))\n",
    "        \n",
    "        ss.append(ml_ll_ss)\n",
    "    mean_value = np.mean(ss)\n",
    "    std_error_value = np.std(ss) / np.sqrt(len(ss))\n",
    "\n",
    "    return mean_value\n",
    "\n",
    "#print(\"Mean: \" + str(mean_value) + \"\\n\" + \"Standard error: \" + str(std_error_value))"
   ]
  },
  {
   "cell_type": "code",
   "execution_count": 5,
   "id": "ea4a0791-5ca1-4a51-be12-0c860dd749f9",
   "metadata": {},
   "outputs": [
    {
     "data": {
      "text/plain": [
       "-42.64213860481938"
      ]
     },
     "execution_count": 5,
     "metadata": {},
     "output_type": "execute_result"
    }
   ],
   "source": [
    "theta = np.random.normal(0,1)\n",
    "SS_estimator(10000, np.zeros(20), np.identity(20), 1, 0, 0.6, theta)"
   ]
  },
  {
   "cell_type": "markdown",
   "id": "4c97a623-9416-4d27-9b86-085de987416a",
   "metadata": {},
   "source": [
    "# **BOUCLE POUR ESTIMER THETA**"
   ]
  },
  {
   "cell_type": "code",
   "execution_count": 6,
   "id": "7bd406df-1096-4d70-895b-3d440935b7d2",
   "metadata": {},
   "outputs": [],
   "source": [
    "def estimate_theta(debut,fin,pas,n_sim):\n",
    "    theta = np.random.normal(0,1)\n",
    "    print(theta)\n",
    "    theta_estim = []\n",
    "    for i in range(n_sim):\n",
    "        liste = np.linspace(debut,fin,pas)\n",
    "        x = []\n",
    "        y = []\n",
    "        for k in liste:\n",
    "            y.append(SS_estimator(100, np.zeros(20)+k, np.identity(20), 1, 0, 0.6,theta))\n",
    "            x.append(k)\n",
    "        theta_estim.append(x[y.index(max(y))])\n",
    "        print(i) \n",
    "    return theta_estim, theta"
   ]
  },
  {
   "cell_type": "code",
   "execution_count": 7,
   "id": "ebf53607-9803-4c2b-be82-85f355966a09",
   "metadata": {},
   "outputs": [],
   "source": [
    "#plt.scatter(x,y)\n",
    "#estimate_theta(-3,3,90,3)"
   ]
  },
  {
   "cell_type": "markdown",
   "id": "4d26be15-00a8-4617-81da-c9d34b73357d",
   "metadata": {},
   "source": [
    "# **3) FONCTION POUR RUSSIAN ROULETTE**"
   ]
  },
  {
   "cell_type": "code",
   "execution_count": 8,
   "id": "6c55d907-8025-49ff-8d2a-07ced693aa31",
   "metadata": {},
   "outputs": [],
   "source": [
    "def delta(k, q, p, q_O, p_O, q_E, p_E):\n",
    "    w_O_k = []\n",
    "    w_E_k = []\n",
    "    w_k=[]\n",
    "    for i in range(2**k):\n",
    "        w_O_k.append(p_O[i]/q_O[i])\n",
    "        w_E_k.append(p_E[i]/q_E[i])\n",
    "    for i in range(2**(k+1)):\n",
    "        w_k.append(p[i]/q[i])\n",
    "    l_O_k = logsumexp(w_O_k) - np.log(len(w_O_k))  \n",
    "    l_E_k = logsumexp(w_E_k) - np.log(len(w_E_k))    \n",
    "    l_k = logsumexp(w_k) - np.log(len(w_k))\n",
    "    delta_k = l_k - 0.5*(l_E_k + l_O_k)\n",
    "    return delta_k"
   ]
  },
  {
   "cell_type": "code",
   "execution_count": 9,
   "id": "997ca24d-723d-46ba-b5f3-a3b3d8a91aee",
   "metadata": {},
   "outputs": [],
   "source": [
    "def RR_estimator(n_sim, mean, cov, A, b, r, theta):\n",
    "    rr = []\n",
    "    for i in range(n_sim):\n",
    "        sum_rr = 0\n",
    "        K = np.random.geometric(r, 1)\n",
    "        x = np.random.multivariate_normal(mean, 2*cov)\n",
    "        z, z_O, z_E = generate_z(A,b,K,cov,x)\n",
    "        q, p, q_O, p_O, q_E, p_E = generate_q_p(A,b,K,mean,cov,x,z,z_O,z_E)\n",
    "        w = np.log(p) - np.log(q)\n",
    "        w_O = np.log(p_O) - np.log(q_O)\n",
    "        w_E = np.log(p_E) - np.log(q_E)\n",
    "            \n",
    "        #third step : compute I0\n",
    "        I0 = w.mean()\n",
    "        \n",
    "        for j in range(1,int(K)):\n",
    "            sum_rr += (delta(j,q,p,q_O,p_O,q_E,p_E)/((1-r)**j))\n",
    "            \n",
    "        ml_ll_rr = I0 + sum_rr\n",
    "        rr.append(ml_ll_rr)\n",
    "        \n",
    "    mean_value = np.mean(rr)\n",
    "    std_error_value = np.std(rr) / np.sqrt(len(rr))\n",
    "\n",
    "    return print(\"Mean: \" + str(mean_value) + \"\\n\" + \"Standard error: \" + str(std_error_value))"
   ]
  },
  {
   "cell_type": "code",
   "execution_count": 10,
   "id": "8ce0afdf-d5c7-4216-9a9e-e08cf8def88f",
   "metadata": {
    "tags": []
   },
   "outputs": [
    {
     "name": "stdout",
     "output_type": "stream",
     "text": [
      "Mean: -45.740345516551145\n",
      "Standard error: 0.06747878839479356\n"
     ]
    }
   ],
   "source": [
    "theta = np.random.normal(0,1)\n",
    "RR_estimator(10000, np.zeros(20), np.identity(20), 1, 0, 0.6, theta)"
   ]
  },
  {
   "cell_type": "markdown",
   "id": "85f71884-1b8d-4eb0-a205-ba7d9c576bde",
   "metadata": {},
   "source": [
    "# **4) FONCTION SUMO**"
   ]
  },
  {
   "cell_type": "code",
   "execution_count": null,
   "id": "abc68799-e150-4b9c-9a51-619402e796f1",
   "metadata": {},
   "outputs": [],
   "source": [
    "def delta_sumo(k, q, p):\n",
    "    w_k2=[]\n",
    "    w_k1=[]\n",
    "    for i in range(k+1):\n",
    "        w_k1.append(p[i]/q[i])\n",
    "    for i in range(k+2):\n",
    "        w_k2.append(p[i]/q[i])\n",
    "    l_k1 = np.log(np.mean(w_k1))\n",
    "    l_k2 = np.log(np.mean(w_k2))\n",
    "    delta_k = l_k2-l_k1\n",
    "    return delta_k"
   ]
  }
 ],
 "metadata": {
  "kernelspec": {
   "display_name": "Python 3 (ipykernel)",
   "language": "python",
   "name": "python3"
  },
  "language_info": {
   "codemirror_mode": {
    "name": "ipython",
    "version": 3
   },
   "file_extension": ".py",
   "mimetype": "text/x-python",
   "name": "python",
   "nbconvert_exporter": "python",
   "pygments_lexer": "ipython3",
   "version": "3.9.13"
  }
 },
 "nbformat": 4,
 "nbformat_minor": 5
}
