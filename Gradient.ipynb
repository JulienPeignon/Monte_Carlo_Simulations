{
 "cells": [
  {
   "cell_type": "code",
   "execution_count": 13,
   "id": "99b37f95-ddb5-4ff1-95c9-83b986c6effa",
   "metadata": {},
   "outputs": [],
   "source": [
    "import numpy as np\n",
    "from scipy.stats import multivariate_normal\n",
    "from scipy.special import logsumexp\n",
    "import matplotlib.pyplot as plt\n",
    "import math "
   ]
  },
  {
   "cell_type": "markdown",
   "id": "3d69e2be-05a0-4291-8601-d695fe350ff2",
   "metadata": {},
   "source": [
    "# **1) GENERATION DES DONNEES**"
   ]
  },
  {
   "cell_type": "code",
   "execution_count": 2,
   "id": "1c37db7f-d027-4918-a2b9-0bebbb317190",
   "metadata": {},
   "outputs": [],
   "source": [
    "def generate_z(A,b,K,cov,x):\n",
    "    z_O = []\n",
    "    z_E = []\n",
    "    for i in range(int(2**K)):\n",
    "        z_O.append(np.random.multivariate_normal(A*x+b, (2/3)*cov))\n",
    "        z_E.append(np.random.multivariate_normal(A*x+b, (2/3)*cov))\n",
    "    z = z_O.copy()\n",
    "    z.extend(z_E)\n",
    "    return z, z_O, z_E"
   ]
  },
  {
   "cell_type": "code",
   "execution_count": 3,
   "id": "48869d88-482c-474d-a689-df3e330b7be4",
   "metadata": {},
   "outputs": [],
   "source": [
    "def generate_q_p(A,b,K,mean,cov,x,z,z_O,z_E):\n",
    "    q = []\n",
    "    p = []\n",
    "    q_O = []\n",
    "    p_O = []\n",
    "    q_E = []\n",
    "    p_E = []\n",
    "    for i in range(int(2**(K+1))):\n",
    "        q.append(multivariate_normal.pdf(z[i], mean=A*x+b, cov=(2/3)*cov))\n",
    "        p.append(multivariate_normal.pdf(z[i], mean=mean, cov=cov)*multivariate_normal.pdf(x, mean=z[i], cov=cov))\n",
    "    for i in range(int(2**(K))):\n",
    "        q_O.append(multivariate_normal.pdf(z_O[i], mean=A*x+b, cov=(2/3)*cov))\n",
    "        p_O.append(multivariate_normal.pdf(z_O[i], mean=mean, cov=cov)*multivariate_normal.pdf(x, mean=z_O[i], cov=cov))\n",
    "        q_E.append(multivariate_normal.pdf(z_E[i], mean=A*x+b, cov=(2/3)*cov))\n",
    "        p_E.append(multivariate_normal.pdf(z_E[i], mean=mean, cov=cov)*multivariate_normal.pdf(x, mean=z_E[i], cov=cov))\n",
    "    return q, p, q_O, p_O, q_E, p_E"
   ]
  },
  {
   "cell_type": "code",
   "execution_count": 4,
   "id": "4900ea9e-84bb-46f7-8085-60fe1842d61b",
   "metadata": {},
   "outputs": [],
   "source": [
    "def SS_estimator(n_sim, mean, cov, A, b, r, theta):\n",
    "    ss = []\n",
    "    for i in range(n_sim):\n",
    "        K = np.random.geometric(r, 1)\n",
    "        x = np.random.multivariate_normal(np.zeros(20)+theta, 2*cov)\n",
    "        z, z_O, z_E = generate_z(A,b,K,cov,x)\n",
    "        q, p, q_O, p_O, q_E, p_E = generate_q_p(A,b,K,mean,cov,x,z,z_O,z_E)\n",
    "        w = np.log(p) - np.log(q)\n",
    "        w_O = np.log(p_O) - np.log(q_O)\n",
    "        w_E = np.log(p_E) - np.log(q_E)\n",
    "            \n",
    "        #third step : compute I0\n",
    "        I0 = w.mean()\n",
    "\n",
    "        #fourth step : compute Lo and Le\n",
    "            # Lo\n",
    "        l_O = logsumexp(w_O) - np.log(len(w_O))    \n",
    "            #Le\n",
    "        l_E = logsumexp(w_E) - np.log(len(w_E))    \n",
    "\n",
    "        #fifth step : compute L_O_E\n",
    "        L_O_E = logsumexp(w) - np.log(len(w))\n",
    "    \n",
    "        #DeltaK\n",
    "        DeltaK = L_O_E - 0.5*(l_O + l_E)\n",
    "    \n",
    "        #sixth step : compute the final estimator\n",
    "        ml_ll_ss = I0 + (DeltaK/(r*(1-r)**(int(K)-1)))\n",
    "        \n",
    "        ss.append(ml_ll_ss)\n",
    "    mean_value = np.mean(ss)\n",
    "    std_error_value = np.std(ss) / np.sqrt(len(ss))\n",
    "\n",
    "    return mean_value\n",
    "\n",
    "#print(\"Mean: \" + str(mean_value) + \"\\n\" + \"Standard error: \" + str(std_error_value))"
   ]
  },
  {
   "cell_type": "markdown",
   "id": "8c434214-822b-4f9e-9d1b-99b047ba699c",
   "metadata": {},
   "source": [
    "# **ESTIMATION DU GRADIENT**"
   ]
  },
  {
   "cell_type": "code",
   "execution_count": 22,
   "id": "9d3eb5ed-14b4-4289-a438-dff95de1c65b",
   "metadata": {},
   "outputs": [
    {
     "name": "stdout",
     "output_type": "stream",
     "text": [
      "1.8913791896745002\n"
     ]
    },
    {
     "name": "stderr",
     "output_type": "stream",
     "text": [
      "C:\\Users\\peign\\AppData\\Local\\Temp\\ipykernel_12892\\2328961473.py:8: RuntimeWarning: divide by zero encountered in log\n",
      "  w = np.log(p) - np.log(q)\n",
      "C:\\Users\\peign\\AppData\\Local\\Temp\\ipykernel_12892\\2328961473.py:9: RuntimeWarning: divide by zero encountered in log\n",
      "  w_O = np.log(p_O) - np.log(q_O)\n",
      "C:\\Users\\peign\\AppData\\Local\\Temp\\ipykernel_12892\\2328961473.py:10: RuntimeWarning: divide by zero encountered in log\n",
      "  w_E = np.log(p_E) - np.log(q_E)\n",
      "C:\\Users\\peign\\AppData\\Local\\Temp\\ipykernel_12892\\2328961473.py:25: RuntimeWarning: invalid value encountered in double_scalars\n",
      "  DeltaK = L_O_E - 0.5*(l_O + l_E)\n",
      "C:\\Users\\peign\\AppData\\Local\\Temp\\ipykernel_12892\\2328961473.py:28: RuntimeWarning: invalid value encountered in double_scalars\n",
      "  ml_ll_ss = I0 + (DeltaK/(r*(1-r)**(int(K)-1)))\n"
     ]
    }
   ],
   "source": [
    "y = []\n",
    "x = []\n",
    "theta = np.random.normal(0,1)\n",
    "print(theta)\n",
    "liste = np.linspace(-10,10,100)\n",
    "for k in liste:\n",
    "    y.append(SS_estimator(100, np.zeros(20)+k, np.identity(20), 1, 0, 0.6,theta))\n",
    "    x.append(k)"
   ]
  },
  {
   "cell_type": "code",
   "execution_count": 23,
   "id": "401d7b98-d66d-4457-83c3-70b9afc77e58",
   "metadata": {},
   "outputs": [],
   "source": [
    "cleaned_y = [x for x in y if (math.isnan(x)==False)]\n",
    "cleaned_x = [x[i] for i in range(len(x)) if (math.isnan(y[i])==False)]"
   ]
  },
  {
   "cell_type": "code",
   "execution_count": 28,
   "id": "69995e39-005a-4b17-b293-b800ce0c0438",
   "metadata": {},
   "outputs": [],
   "source": [
    "grad = np.gradient(cleaned_y)"
   ]
  }
 ],
 "metadata": {
  "kernelspec": {
   "display_name": "Python 3 (ipykernel)",
   "language": "python",
   "name": "python3"
  },
  "language_info": {
   "codemirror_mode": {
    "name": "ipython",
    "version": 3
   },
   "file_extension": ".py",
   "mimetype": "text/x-python",
   "name": "python",
   "nbconvert_exporter": "python",
   "pygments_lexer": "ipython3",
   "version": "3.9.13"
  }
 },
 "nbformat": 4,
 "nbformat_minor": 5
}
