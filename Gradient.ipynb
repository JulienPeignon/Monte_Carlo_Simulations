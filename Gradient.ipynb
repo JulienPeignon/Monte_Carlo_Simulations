{
  "cells": [
    {
      "cell_type": "code",
      "execution_count": 1,
      "id": "f4381ce3-8065-4ae1-bcae-8b64692160fc",
      "metadata": {
        "id": "f4381ce3-8065-4ae1-bcae-8b64692160fc"
      },
      "outputs": [],
      "source": [
        "import numpy as np\n",
        "from scipy.stats import multivariate_normal\n",
        "from scipy.special import logsumexp\n",
        "import matplotlib.pyplot as plt"
      ]
    },
    {
      "cell_type": "markdown",
      "id": "4d92b66e-41eb-40d4-9539-3357e93d51b5",
      "metadata": {
        "id": "4d92b66e-41eb-40d4-9539-3357e93d51b5"
      },
      "source": [
        "# **1) GENERATION DES DONNEES**"
      ]
    },
    {
      "cell_type": "markdown",
      "source": [
        "On tire un échantillon i.i.d. de $z_i$ de densité $q_{\\phi}(.|x)$. Dans notre application on définit $q_{\\phi}(.|x)$ comme une loi normale multivariée de moyenne nulle et de matrice de variance-covariance $2/3*I$. Nous ne considérons pas dans notre application de perturbations additionnelles sur cette distribution. Ainsi, ${\\phi} = (I,0)$."
      ],
      "metadata": {
        "id": "Z5F675oTQwbn"
      },
      "id": "Z5F675oTQwbn"
    },
    {
      "cell_type": "code",
      "execution_count": 2,
      "id": "c18bc9a8-efe2-4ef3-8798-fd16ddbbfa92",
      "metadata": {
        "id": "c18bc9a8-efe2-4ef3-8798-fd16ddbbfa92"
      },
      "outputs": [],
      "source": [
        "def generate_z(K,x_data):\n",
        "    z_O, z_E = [],[]\n",
        "    for i in range(int(2**K)):\n",
        "        z_O.append(np.random.multivariate_normal(x_data, (2/3)*np.identity(20)))\n",
        "        z_E.append(np.random.multivariate_normal(x_data, (2/3)*np.identity(20)))\n",
        "    z = z_O.copy()\n",
        "    z.extend(z_E)\n",
        "    return z, z_O, z_E"
      ]
    },
    {
      "cell_type": "code",
      "source": [
        "np.random.seed(0)\n",
        "generate_z(0,np.zeros((20)))"
      ],
      "metadata": {
        "id": "8qAycUKhRNwk",
        "outputId": "cc61d901-2440-4e21-ea41-8d48ee0fdc78",
        "colab": {
          "base_uri": "https://localhost:8080/"
        }
      },
      "id": "8qAycUKhRNwk",
      "execution_count": 3,
      "outputs": [
        {
          "output_type": "execute_result",
          "data": {
            "text/plain": [
              "([array([ 1.44034271,  0.32672699,  0.79913622,  1.82968164,  1.52485471,\n",
              "         -0.79794405,  0.77574394, -0.12358264, -0.08427784,  0.33525227,\n",
              "          0.11761108,  1.18740935,  0.6213847 ,  0.09934723,  0.36241281,\n",
              "          0.27244395,  1.21991045, -0.16751102,  0.25561871, -0.69736625]),\n",
              "  array([-2.08450746,  0.53367735,  0.7058092 , -0.6059752 ,  1.85324689,\n",
              "         -1.1874846 ,  0.03736167, -0.15283497,  1.25150899,  1.19972641,\n",
              "          0.12651404,  0.3087684 , -0.72487403, -1.61731354, -0.28406908,\n",
              "          0.1276584 ,  1.00452813,  0.98173904, -0.31625102, -0.24682916])],\n",
              " [array([ 1.44034271,  0.32672699,  0.79913622,  1.82968164,  1.52485471,\n",
              "         -0.79794405,  0.77574394, -0.12358264, -0.08427784,  0.33525227,\n",
              "          0.11761108,  1.18740935,  0.6213847 ,  0.09934723,  0.36241281,\n",
              "          0.27244395,  1.21991045, -0.16751102,  0.25561871, -0.69736625])],\n",
              " [array([-2.08450746,  0.53367735,  0.7058092 , -0.6059752 ,  1.85324689,\n",
              "         -1.1874846 ,  0.03736167, -0.15283497,  1.25150899,  1.19972641,\n",
              "          0.12651404,  0.3087684 , -0.72487403, -1.61731354, -0.28406908,\n",
              "          0.1276584 ,  1.00452813,  0.98173904, -0.31625102, -0.24682916])])"
            ]
          },
          "metadata": {},
          "execution_count": 3
        }
      ]
    },
    {
      "cell_type": "markdown",
      "source": [
        "On doit maintenant tirer $q_{\\phi}(z|x)$ et la loi jointe $p_{\\theta}(x,z)$. Conformément à la procédure décrite dans l'article on tire $q_{\\phi}(z|x)$ comme une loi normale de"
      ],
      "metadata": {
        "id": "ymYf9rMfQxrH"
      },
      "id": "ymYf9rMfQxrH"
    },
    {
      "cell_type": "code",
      "execution_count": 4,
      "id": "22e2b476-f092-485f-9cd8-5eb3cf688c06",
      "metadata": {
        "id": "22e2b476-f092-485f-9cd8-5eb3cf688c06"
      },
      "outputs": [],
      "source": [
        "def generate_q_p(K,mean,x_data,z,z_O,z_E):\n",
        "    q,p,q_O,p_O,q_E,p_E = [],[],[],[],[],[]\n",
        "    for i in range(int(2**(K+1))):\n",
        "        q.append(multivariate_normal.pdf(z[i], mean=x_data, cov=(2/3)*np.identity(20)))\n",
        "        p.append(multivariate_normal.pdf(z[i], mean=mean, cov=np.identity(20))*multivariate_normal.pdf(x_data, mean=z[i], cov=np.identity(20)))\n",
        "    for i in range(int(2**(K))):\n",
        "        q_O.append(multivariate_normal.pdf(z_O[i], mean=x_data, cov=(2/3)*np.identity(20)))\n",
        "        p_O.append(multivariate_normal.pdf(z_O[i], mean=mean, cov=np.identity(20))*multivariate_normal.pdf(x_data, mean=z_O[i], cov=np.identity(20)))\n",
        "        q_E.append(multivariate_normal.pdf(z_E[i], mean=x_data, cov=(2/3)*np.identity(20)))\n",
        "        p_E.append(multivariate_normal.pdf(z_E[i], mean=mean, cov=np.identity(20))*multivariate_normal.pdf(x_data, mean=z_E[i], cov=np.identity(20)))\n",
        "    return q, p, q_O, p_O, q_E, p_E"
      ]
    },
    {
      "cell_type": "markdown",
      "id": "8a4e28d1-70a6-43bf-a321-5b258cda2129",
      "metadata": {
        "id": "8a4e28d1-70a6-43bf-a321-5b258cda2129"
      },
      "source": [
        "# **2) FONCTIONS**"
      ]
    },
    {
      "cell_type": "code",
      "execution_count": 5,
      "id": "e731a36a-a33e-4862-91c4-36e4143a1a6d",
      "metadata": {
        "id": "e731a36a-a33e-4862-91c4-36e4143a1a6d"
      },
      "outputs": [],
      "source": [
        "def sum_w(K,w):\n",
        "    sum_w=0\n",
        "    for i in range(int(K)):\n",
        "        sum_w += np.exp(w[i])\n",
        "    return sum_w"
      ]
    },
    {
      "cell_type": "code",
      "execution_count": 6,
      "id": "2e875476-553b-462e-bebc-52655063db3c",
      "metadata": {
        "id": "2e875476-553b-462e-bebc-52655063db3c"
      },
      "outputs": [],
      "source": [
        "def pi(K,w,p):\n",
        "    sum_grad = 0\n",
        "    for i in range(int(K)):\n",
        "        sum_grad += (w[i]/sum_w(K,w))*np.gradient(p)[i]\n",
        "    return sum_grad"
      ]
    },
    {
      "cell_type": "markdown",
      "source": [
        "K = taille de l'échantillon = aléatoire et généré selon une loi géométrique de paramètre 0.6"
      ],
      "metadata": {
        "id": "BYcQ3ZseQ5an"
      },
      "id": "BYcQ3ZseQ5an"
    },
    {
      "cell_type": "code",
      "execution_count": 7,
      "id": "7c40f14d-b65c-4116-bdea-59aeb71613fd",
      "metadata": {
        "id": "7c40f14d-b65c-4116-bdea-59aeb71613fd"
      },
      "outputs": [],
      "source": [
        "def grad_ss(n_sim, mean, r, x_data, theta):\n",
        "    grad_vector = []\n",
        "    x = np.random.multivariate_normal(np.zeros(20)+theta, 2*np.identity(20))\n",
        "    for i in range(n_sim):\n",
        "        K = np.random.geometric(r, 1)\n",
        "        z, z_O, z_E = generate_z(K,x_data)\n",
        "        q, p, q_O, p_O, q_E, p_E = generate_q_p(K,mean,x_data,z,z_O,z_E)\n",
        "        w = np.log(p) - np.log(q)\n",
        "        w_O = np.log(p_O) - np.log(q_O)\n",
        "        w_E = np.log(p_E) - np.log(q_E)\n",
        "            \n",
        "        #third step : compute I0\n",
        "        I0 = w.mean()\n",
        "\n",
        "        #fourth step : compute Lo and Le\n",
        "            # Lo\n",
        "        pi_O = pi(K,w_O,p_O)  \n",
        "            #Le\n",
        "        pi_E = pi(K,w_E,p_E)    \n",
        "\n",
        "        #fifth step : compute L_O_E\n",
        "        pi_O_E = pi(K,w,p)\n",
        "    \n",
        "        #DeltaK\n",
        "        DeltaK = pi_O_E - 0.5*(pi_O + pi_E)\n",
        "    \n",
        "        #sixth step : compute the final estimator\n",
        "        grad = I0 + (DeltaK/(r*(1-r)**(int(K)-1)))\n",
        "        \n",
        "        grad_vector.append(grad)\n",
        "    mean_value = np.mean(grad_vector)\n",
        "    #std_error_value = np.std(grad_vector) / np.sqrt(len(grad_vector))\n",
        "\n",
        "    return mean_value"
      ]
    },
    {
      "cell_type": "code",
      "execution_count": 8,
      "id": "3f55234c-a7ef-4eca-83dc-839e1483f654",
      "metadata": {
        "id": "3f55234c-a7ef-4eca-83dc-839e1483f654",
        "outputId": "2f27df74-830a-44cd-d811-324301e68276",
        "colab": {
          "base_uri": "https://localhost:8080/"
        }
      },
      "outputs": [
        {
          "output_type": "stream",
          "name": "stdout",
          "text": [
            "Theta = -1.05\n"
          ]
        },
        {
          "output_type": "execute_result",
          "data": {
            "text/plain": [
              "-66.55115973440422"
            ]
          },
          "metadata": {},
          "execution_count": 8
        }
      ],
      "source": [
        "theta = np.random.normal(0,1)\n",
        "print(\"Theta = \" + str('{:.2f}'.format((theta))))\n",
        "x_data = np.random.multivariate_normal(np.zeros(20)+theta, 2*np.identity(20))\n",
        "grad_ss(100, np.zeros(20), 0.6, x_data, theta)"
      ]
    },
    {
      "cell_type": "markdown",
      "source": [
        "# **3) DESCENTE DE GRADIENT**\n",
        "Test performances estimateur gradient ML-SS"
      ],
      "metadata": {
        "id": "jsdWJI9kKEO5"
      },
      "id": "jsdWJI9kKEO5"
    },
    {
      "cell_type": "code",
      "source": [
        "def gradient_descent(n_sim, mean, r, theta, precision, learning_rate = 0.01):\n",
        "  start = 0\n",
        "  gradient_update = []\n",
        "  gradient_update.append(grad_ss(n_sim, mean, r, x_data, theta))\n",
        "  iteration = 0\n",
        "  while gradient_update[iteration] - gradient_update[iteration - 1] >= precision:\n",
        "    gradient_update.append(gradient_update[iteration] - learning_rate * grad_ss(n_sim, gradient_update[iteration], r, x_data, theta))\n",
        "  return gradient_update[-1]"
      ],
      "metadata": {
        "id": "SbxMSYrlKEoo"
      },
      "id": "SbxMSYrlKEoo",
      "execution_count": 9,
      "outputs": []
    },
    {
      "cell_type": "markdown",
      "id": "eb474c71-dfe7-4e48-953c-dd4a41941751",
      "metadata": {
        "id": "eb474c71-dfe7-4e48-953c-dd4a41941751"
      },
      "source": [
        "# **4) FONCTION POUR PLOT LE GRADIENT ESTIME**"
      ]
    },
    {
      "cell_type": "code",
      "source": [
        "def plot_grad(debut,fin,pas,n_sim,x_data):\n",
        "    for i in range(n_sim):\n",
        "        liste = np.linspace(debut,fin,pas)\n",
        "        x = []\n",
        "        y = []\n",
        "        for k in liste:\n",
        "            y.append(grad_ss(100, np.zeros(20)+k, 0.6, x_data, theta))\n",
        "            x.append(k)\n",
        "        print(str('{:.2f}'.format((i+1)/n_sim)))              \n",
        "    return x, y"
      ],
      "metadata": {
        "id": "H6pf3jQdtFp3"
      },
      "id": "H6pf3jQdtFp3",
      "execution_count": 13,
      "outputs": []
    },
    {
      "cell_type": "code",
      "execution_count": 14,
      "id": "b026e4e4-65e3-48e2-97b6-d9ff08b5916f",
      "metadata": {
        "id": "b026e4e4-65e3-48e2-97b6-d9ff08b5916f",
        "outputId": "c9f5b101-9fb2-4dec-c627-efd394ba1d37",
        "colab": {
          "base_uri": "https://localhost:8080/",
          "height": 522
        }
      },
      "outputs": [
        {
          "output_type": "stream",
          "name": "stdout",
          "text": [
            "Theta = -0.42\n",
            "0.33\n",
            "0.67\n",
            "1.00\n"
          ]
        },
        {
          "output_type": "execute_result",
          "data": {
            "text/plain": [
              "[]"
            ]
          },
          "metadata": {},
          "execution_count": 14
        },
        {
          "output_type": "display_data",
          "data": {
            "text/plain": [
              "<Figure size 640x480 with 1 Axes>"
            ],
            "image/png": "[encoded data removed]"
          },
          "metadata": {}
        }
      ],
      "source": [
        "theta = np.random.normal(0,1)\n",
        "print(\"Theta = \" + str('{:.2f}'.format((theta))))\n",
        "x_data = np.random.multivariate_normal(np.zeros(20)+theta, 2*np.identity(20))\n",
        "x_grad,y_grad = plot_grad(debut=-4,fin=4,pas=30,n_sim=3,x_data=x_data)\n",
        "plt.scatter(x_grad,y_grad)\n",
        "plt.ylim((-100,100))\n",
        "plt.plot()"
      ]
    },
    {
      "cell_type": "code",
      "source": [
        "x_grad"
      ],
      "metadata": {
        "id": "IKvKS62Ur8jy"
      },
      "id": "IKvKS62Ur8jy",
      "execution_count": null,
      "outputs": []
    },
    {
      "cell_type": "markdown",
      "source": [
        "# **5) ESTIMATION GRADIENT IWAE**\n",
        "\n",
        "CF FORMULE (11) ARTICLE"
      ],
      "metadata": {
        "id": "_Q_KxAucyw2D"
      },
      "id": "_Q_KxAucyw2D"
    },
    {
      "cell_type": "code",
      "source": [
        "def gradient_loglikelihood_estimator(n_sim, mean, r, x_data, theta):\n",
        "  w_bar = []      # vecteur qui contient les w_bar_i décrits dans l'équation (4) de l'article\n",
        "  x = np.random.multivariate_normal(np.zeros(20)+theta, 2*np.identity(20))\n",
        "  for i in range(n_sim):\n",
        "    K = np.random.geometric(r, 1)\n",
        "    z, z_O, z_E = generate_z(K,x_data)\n",
        "    q, p, q_O, p_O, q_E, p_E = generate_q_p(K,mean,x_data,z,z_O,z_E)\n",
        "    w = [m/n for m, n in zip(p, q)] # on obtient les w_i\n",
        "  for i in range(len(w)):\n",
        "    w_bar.append(w[i] / np.sum(w)) #w bar i \n",
        "  IWAE_gradient_estimator = 0\n",
        "  for i in range(len(z)):\n",
        "    IWAE_gradient_estimator += w_bar[i] * np.gradient(p) \n",
        "  return IWAE_gradient_estimator"
      ],
      "metadata": {
        "id": "tGzZbpVpyvp0"
      },
      "id": "tGzZbpVpyvp0",
      "execution_count": 17,
      "outputs": []
    },
    {
      "cell_type": "code",
      "source": [
        "def plot_grad_2(debut,fin,pas,n_sim,x_data):\n",
        "    for i in range(n_sim):\n",
        "        liste = np.linspace(debut,fin,pas)\n",
        "        x = []\n",
        "        y = []\n",
        "        for k in liste:\n",
        "            y.append(gradient_loglikelihood_estimator(1, np.zeros(20)+k, 0.6, x_data, theta))\n",
        "            x.append(k)\n",
        "        print(str('{:.2f}'.format((i+1)/n_sim)))              \n",
        "    return x, y"
      ],
      "metadata": {
        "id": "JmWqJLN3kDSS"
      },
      "id": "JmWqJLN3kDSS",
      "execution_count": 21,
      "outputs": []
    },
    {
      "cell_type": "code",
      "source": [
        "print(\"Theta = \" + str('{:.2f}'.format((theta))))\n",
        "x_data = np.random.multivariate_normal(np.zeros(20)+theta, 2*np.identity(20))\n",
        "x_grad,y_grad = plot_grad_2(debut=-4, fin=4, pas=30, n_sim=3, x_data=x_data)\n",
        "gradient_values = gradient_loglikelihood_estimator(100, np.zeros((20)), 0.6, x_data, theta)\n",
        "print(type(x_grad), type(y_grad))\n",
        "#plt.scatter(x_grad,y_grad)\n",
        "#plt.plot()"
      ],
      "metadata": {
        "id": "j9Y_tah2kJ6T",
        "outputId": "5932def5-d218-44b0-fad3-a2a28694e3c7",
        "colab": {
          "base_uri": "https://localhost:8080/"
        }
      },
      "id": "j9Y_tah2kJ6T",
      "execution_count": 19,
      "outputs": [
        {
          "output_type": "stream",
          "name": "stdout",
          "text": [
            "Theta = -0.42\n",
            "0.33\n",
            "0.67\n",
            "1.00\n",
            "<class 'list'> <class 'list'>\n"
          ]
        }
      ]
    },
    {
      "cell_type": "code",
      "source": [
        "plt.scatter(x_grad,y_grad)\n",
        "plt.plot()"
      ],
      "metadata": {
        "id": "XRSl1diWpp7K"
      },
      "id": "XRSl1diWpp7K",
      "execution_count": null,
      "outputs": []
    }
  ],
  "metadata": {
    "kernelspec": {
      "display_name": "Python 3 (ipykernel)",
      "language": "python",
      "name": "python3"
    },
    "language_info": {
      "codemirror_mode": {
        "name": "ipython",
        "version": 3
      },
      "file_extension": ".py",
      "mimetype": "text/x-python",
      "name": "python",
      "nbconvert_exporter": "python",
      "pygments_lexer": "ipython3",
      "version": "3.9.13"
    },
    "colab": {
      "provenance": []
    }
  },
  "nbformat": 4,
  "nbformat_minor": 5
}