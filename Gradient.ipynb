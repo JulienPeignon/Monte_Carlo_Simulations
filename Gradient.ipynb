{
 "cells": [
  {
   "cell_type": "code",
   "execution_count": 81,
   "id": "f4381ce3-8065-4ae1-bcae-8b64692160fc",
   "metadata": {},
   "outputs": [],
   "source": [
    "import numpy as np\n",
    "from scipy.stats import multivariate_normal\n",
    "from scipy.special import logsumexp\n",
    "import matplotlib.pyplot as plt"
   ]
  },
  {
   "cell_type": "markdown",
   "id": "4d92b66e-41eb-40d4-9539-3357e93d51b5",
   "metadata": {},
   "source": [
    "# **1) GENERATION DES DONNEES**"
   ]
  },
  {
   "cell_type": "code",
   "execution_count": 82,
   "id": "c18bc9a8-efe2-4ef3-8798-fd16ddbbfa92",
   "metadata": {},
   "outputs": [],
   "source": [
    "def generate_z(A,b,K,cov,x):\n",
    "    z_O = []\n",
    "    z_E = []\n",
    "    for i in range(int(2**K)):\n",
    "        z_O.append(np.random.multivariate_normal(A*x+b, (2/3)*cov))\n",
    "        z_E.append(np.random.multivariate_normal(A*x+b, (2/3)*cov))\n",
    "    z = z_O.copy()\n",
    "    z.extend(z_E)\n",
    "    return z, z_O, z_E"
   ]
  },
  {
   "cell_type": "code",
   "execution_count": 83,
   "id": "22e2b476-f092-485f-9cd8-5eb3cf688c06",
   "metadata": {},
   "outputs": [],
   "source": [
    "def generate_q_p(A,b,K,mean,cov,x,z,z_O,z_E):\n",
    "    q = []\n",
    "    p = []\n",
    "    q_O = []\n",
    "    p_O = []\n",
    "    q_E = []\n",
    "    p_E = []\n",
    "    for i in range(int(2**(K+1))):\n",
    "        q.append(multivariate_normal.pdf(z[i], mean=A*x+b, cov=(2/3)*cov))\n",
    "        p.append(multivariate_normal.pdf(z[i], mean=mean, cov=cov)*multivariate_normal.pdf(x, mean=z[i], cov=cov))\n",
    "    for i in range(int(2**(K))):\n",
    "        q_O.append(multivariate_normal.pdf(z_O[i], mean=A*x+b, cov=(2/3)*cov))\n",
    "        p_O.append(multivariate_normal.pdf(z_O[i], mean=mean, cov=cov)*multivariate_normal.pdf(x, mean=z_O[i], cov=cov))\n",
    "        q_E.append(multivariate_normal.pdf(z_E[i], mean=A*x+b, cov=(2/3)*cov))\n",
    "        p_E.append(multivariate_normal.pdf(z_E[i], mean=mean, cov=cov)*multivariate_normal.pdf(x, mean=z_E[i], cov=cov))\n",
    "    return q, p, q_O, p_O, q_E, p_E"
   ]
  },
  {
   "cell_type": "code",
   "execution_count": 84,
   "id": "8773e3b7-7a30-4758-8fbc-d46339c20027",
   "metadata": {},
   "outputs": [],
   "source": [
    "x = np.random.multivariate_normal(np.zeros(20), 2*np.identity(20))\n",
    "z, z_O, z_E = generate_z(1,0,5,np.identity(20),x)\n",
    "q, p, q_O, p_O, q_E, p_E = generate_q_p(1,0,5,np.zeros(20), np.identity(20),x,z,z_O,z_E)\n",
    "w = np.log(p) - np.log(q)"
   ]
  },
  {
   "cell_type": "markdown",
   "id": "8a4e28d1-70a6-43bf-a321-5b258cda2129",
   "metadata": {},
   "source": [
    "# **2) FONCTIONS**"
   ]
  },
  {
   "cell_type": "code",
   "execution_count": 85,
   "id": "e731a36a-a33e-4862-91c4-36e4143a1a6d",
   "metadata": {},
   "outputs": [],
   "source": [
    "def sum_w(K,a):\n",
    "    sum_w=0\n",
    "    for i in range(int(K)):\n",
    "        sum_w += np.exp(w[i])\n",
    "    return sum_w"
   ]
  },
  {
   "cell_type": "code",
   "execution_count": 86,
   "id": "2e875476-553b-462e-bebc-52655063db3c",
   "metadata": {},
   "outputs": [],
   "source": [
    "def pi(K,w,p):\n",
    "    sum_grad = 0\n",
    "    for i in range(int(K)):\n",
    "        sum_grad += (w[i]/sum_w(K,w))*np.gradient(p)[i]\n",
    "    return sum_grad"
   ]
  },
  {
   "cell_type": "code",
   "execution_count": 91,
   "id": "7c40f14d-b65c-4116-bdea-59aeb71613fd",
   "metadata": {},
   "outputs": [],
   "source": [
    "def grad_estimator(n_sim, mean, cov, A, b, r, theta):\n",
    "    grad_vector = []\n",
    "    x = np.random.multivariate_normal(np.zeros(20)+theta, 2*cov)\n",
    "    for i in range(n_sim):\n",
    "        K = np.random.geometric(r, 1)\n",
    "        z, z_O, z_E = generate_z(A,b,K,cov,x)\n",
    "        q, p, q_O, p_O, q_E, p_E = generate_q_p(A,b,K,mean,cov,x,z,z_O,z_E)\n",
    "        w = np.log(p) - np.log(q)\n",
    "        w_O = np.log(p_O) - np.log(q_O)\n",
    "        w_E = np.log(p_E) - np.log(q_E)\n",
    "            \n",
    "        #third step : compute I0\n",
    "        I0 = w.mean()\n",
    "\n",
    "        #fourth step : compute Lo and Le\n",
    "            # Lo\n",
    "        pi_O = pi(K,w_O,p_O)  \n",
    "            #Le\n",
    "        pi_E = pi(K,w_E,p_E)    \n",
    "\n",
    "        #fifth step : compute L_O_E\n",
    "        pi_O_E = pi(K,w,p)\n",
    "    \n",
    "        #DeltaK\n",
    "        DeltaK = pi_O_E - 0.5*(pi_O + pi_E)\n",
    "    \n",
    "        #sixth step : compute the final estimator\n",
    "        grad = I0 + (DeltaK/(r*(1-r)**(int(K)-1)))\n",
    "        \n",
    "        grad_vector.append(grad)\n",
    "    mean_value = np.mean(grad_vector)\n",
    "    std_error_value = np.std(grad_vector) / np.sqrt(len(grad_vector))\n",
    "\n",
    "    return mean_value"
   ]
  },
  {
   "cell_type": "code",
   "execution_count": 92,
   "id": "3f55234c-a7ef-4eca-83dc-839e1483f654",
   "metadata": {},
   "outputs": [
    {
     "name": "stdout",
     "output_type": "stream",
     "text": [
      "-0.8098216560702469\n"
     ]
    },
    {
     "data": {
      "text/plain": [
       "-47.28695169816283"
      ]
     },
     "execution_count": 92,
     "metadata": {},
     "output_type": "execute_result"
    }
   ],
   "source": [
    "theta = np.random.normal(0,1)\n",
    "print(theta)\n",
    "grad_estimator(100, np.zeros(20), np.identity(20), 1, 0, 0.6, theta)"
   ]
  },
  {
   "cell_type": "markdown",
   "id": "eb474c71-dfe7-4e48-953c-dd4a41941751",
   "metadata": {},
   "source": [
    "# **3) FONCTION POUR PLOT LE GRADIENT ESTIME**"
   ]
  },
  {
   "cell_type": "code",
   "execution_count": 93,
   "id": "8850a228-0acf-4b60-8ddc-3c9302c47734",
   "metadata": {},
   "outputs": [],
   "source": [
    "def plot_grad(debut,fin,pas,n_sim):\n",
    "    theta = np.random.normal(0,1)\n",
    "    print(theta)\n",
    "    for i in range(n_sim):\n",
    "        liste = np.linspace(debut,fin,pas)\n",
    "        x = []\n",
    "        y = []\n",
    "        for k in liste:\n",
    "            y.append(grad_estimator(100, np.zeros(20)+k, np.identity(20), 1, 0, 0.6, theta))\n",
    "            x.append(k)\n",
    "        print((i+1)/n_sim) \n",
    "    return x, y"
   ]
  },
  {
   "cell_type": "code",
   "execution_count": null,
   "id": "b026e4e4-65e3-48e2-97b6-d9ff08b5916f",
   "metadata": {},
   "outputs": [
    {
     "name": "stdout",
     "output_type": "stream",
     "text": [
      "0.6567058167107229\n",
      "0.3333333333333333\n",
      "0.6666666666666666\n"
     ]
    }
   ],
   "source": [
    "x,y = plot_grad(-4,4,30,3)\n",
    "plt.scatter(x,y)"
   ]
  }
 ],
 "metadata": {
  "kernelspec": {
   "display_name": "Python 3 (ipykernel)",
   "language": "python",
   "name": "python3"
  },
  "language_info": {
   "codemirror_mode": {
    "name": "ipython",
    "version": 3
   },
   "file_extension": ".py",
   "mimetype": "text/x-python",
   "name": "python",
   "nbconvert_exporter": "python",
   "pygments_lexer": "ipython3",
   "version": "3.9.13"
  }
 },
 "nbformat": 4,
 "nbformat_minor": 5
}
