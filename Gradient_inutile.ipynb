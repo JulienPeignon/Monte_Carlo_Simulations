{
 "cells": [
  {
   "cell_type": "code",
   "execution_count": 16,
   "id": "f4381ce3-8065-4ae1-bcae-8b64692160fc",
   "metadata": {
    "id": "f4381ce3-8065-4ae1-bcae-8b64692160fc"
   },
   "outputs": [],
   "source": [
    "import numpy as np\n",
    "from scipy.stats import multivariate_normal\n",
    "from scipy.special import logsumexp\n",
    "import matplotlib.pyplot as plt"
   ]
  },
  {
   "cell_type": "markdown",
   "id": "4d92b66e-41eb-40d4-9539-3357e93d51b5",
   "metadata": {
    "id": "4d92b66e-41eb-40d4-9539-3357e93d51b5"
   },
   "source": [
    "# **1) GENERATION DES DONNEES**"
   ]
  },
  {
   "cell_type": "code",
   "execution_count": 17,
   "id": "c18bc9a8-efe2-4ef3-8798-fd16ddbbfa92",
   "metadata": {
    "id": "c18bc9a8-efe2-4ef3-8798-fd16ddbbfa92"
   },
   "outputs": [],
   "source": [
    "def generate_z(K,x_data):\n",
    "    z_O, z_E = [],[]\n",
    "    for i in range(int(2**K)):\n",
    "        z_O.append(np.random.multivariate_normal(x_data, (2/3)*np.identity(20)))\n",
    "        z_E.append(np.random.multivariate_normal(x_data, (2/3)*np.identity(20)))\n",
    "    z = z_O.copy()\n",
    "    z.extend(z_E)\n",
    "    return z, z_O, z_E"
   ]
  },
  {
   "cell_type": "code",
   "execution_count": 18,
   "id": "22e2b476-f092-485f-9cd8-5eb3cf688c06",
   "metadata": {
    "id": "22e2b476-f092-485f-9cd8-5eb3cf688c06"
   },
   "outputs": [],
   "source": [
    "def generate_q_p(K,mean,x_data,z,z_O,z_E):\n",
    "    q,p,q_O,p_O,q_E,p_E = [],[],[],[],[],[]\n",
    "    for i in range(int(2**(K+1))):\n",
    "        q.append(multivariate_normal.pdf(z[i], mean=x_data, cov=(2/3)*np.identity(20)))\n",
    "        p.append(multivariate_normal.pdf(z[i], mean=mean, cov=np.identity(20))*multivariate_normal.pdf(x_data, mean=z[i], cov=np.identity(20)))\n",
    "    for i in range(int(2**(K))):\n",
    "        q_O.append(multivariate_normal.pdf(z_O[i], mean=x_data, cov=(2/3)*np.identity(20)))\n",
    "        p_O.append(multivariate_normal.pdf(z_O[i], mean=mean, cov=np.identity(20))*multivariate_normal.pdf(x_data, mean=z_O[i], cov=np.identity(20)))\n",
    "        q_E.append(multivariate_normal.pdf(z_E[i], mean=x_data, cov=(2/3)*np.identity(20)))\n",
    "        p_E.append(multivariate_normal.pdf(z_E[i], mean=mean, cov=np.identity(20))*multivariate_normal.pdf(x_data, mean=z_E[i], cov=np.identity(20)))\n",
    "    return q, p, q_O, p_O, q_E, p_E"
   ]
  },
  {
   "cell_type": "markdown",
   "id": "8a4e28d1-70a6-43bf-a321-5b258cda2129",
   "metadata": {
    "id": "8a4e28d1-70a6-43bf-a321-5b258cda2129"
   },
   "source": [
    "# **2) FONCTIONS**"
   ]
  },
  {
   "cell_type": "code",
   "execution_count": 26,
   "id": "e731a36a-a33e-4862-91c4-36e4143a1a6d",
   "metadata": {
    "id": "e731a36a-a33e-4862-91c4-36e4143a1a6d"
   },
   "outputs": [],
   "source": [
    "def sum_w(k,w):\n",
    "    sum_w=0\n",
    "    for i in range(int(k)):\n",
    "        sum_w += np.exp(w[i])\n",
    "    return sum_w"
   ]
  },
  {
   "cell_type": "code",
   "execution_count": 27,
   "id": "2e875476-553b-462e-bebc-52655063db3c",
   "metadata": {
    "id": "2e875476-553b-462e-bebc-52655063db3c"
   },
   "outputs": [],
   "source": [
    "def pi(k,w,p):\n",
    "    sum_grad = 0\n",
    "    for i in range(int(k)):\n",
    "        sum_grad += (np.exp(w[i])/sum_w(k,w))*(np.gradient(np.log(p))[i])\n",
    "    return sum_grad"
   ]
  },
  {
   "cell_type": "code",
   "execution_count": 28,
   "id": "7c40f14d-b65c-4116-bdea-59aeb71613fd",
   "metadata": {
    "id": "7c40f14d-b65c-4116-bdea-59aeb71613fd"
   },
   "outputs": [],
   "source": [
    "def grad_ss(n_sim, mean, r, x_data, theta):\n",
    "    grad_vector = []\n",
    "    x = np.random.multivariate_normal(np.zeros(20)+theta, 2*np.identity(20))\n",
    "    for i in range(n_sim):\n",
    "        K = np.random.geometric(r)\n",
    "        z, z_O, z_E = generate_z(K,x_data)\n",
    "        q, p, q_O, p_O, q_E, p_E = generate_q_p(K,mean,x_data,z,z_O,z_E)\n",
    "        w = np.log(p) - np.log(q)\n",
    "        w_O = np.log(p_O) - np.log(q_O)\n",
    "        w_E = np.log(p_E) - np.log(q_E)\n",
    "            \n",
    "        #third step : compute I0\n",
    "        I0 = np.gradient(np.log(p)).mean()\n",
    "\n",
    "        #fourth step : compute Lo and Le\n",
    "            # Lo\n",
    "        pi_O = pi(2**K,w_O,p_O)  \n",
    "            #Le\n",
    "        pi_E = pi(2**K,w_E,p_E)    \n",
    "\n",
    "        #fifth step : compute L_O_E\n",
    "        pi_O_E = pi(2**(K+1),w,p)\n",
    "    \n",
    "        #DeltaK\n",
    "        DeltaK = pi_O_E - 0.5*(pi_O + pi_E)\n",
    "    \n",
    "        #sixth step : compute the final estimator\n",
    "        grad = I0 + (DeltaK/(r*(1-r)**(int(K)-1)))\n",
    "        \n",
    "        grad_vector.append(grad)\n",
    "    mean_value = np.mean(grad_vector)\n",
    "    #std_error_value = np.std(grad_vector) / np.sqrt(len(grad_vector))\n",
    "\n",
    "    return mean_value"
   ]
  },
  {
   "cell_type": "code",
   "execution_count": 32,
   "id": "3f55234c-a7ef-4eca-83dc-839e1483f654",
   "metadata": {
    "colab": {
     "base_uri": "https://localhost:8080/"
    },
    "id": "3f55234c-a7ef-4eca-83dc-839e1483f654",
    "outputId": "18f8d878-0da6-4275-ed46-a530f1779134",
    "scrolled": true
   },
   "outputs": [
    {
     "name": "stdout",
     "output_type": "stream",
     "text": [
      "Theta = 1.54\n"
     ]
    },
    {
     "data": {
      "text/plain": [
       "-4.818697102552326"
      ]
     },
     "execution_count": 32,
     "metadata": {},
     "output_type": "execute_result"
    }
   ],
   "source": [
    "theta = np.random.normal(0,1)\n",
    "print(\"Theta = \" + str('{:.2f}'.format((theta))))\n",
    "x_data = np.random.multivariate_normal(np.zeros(20)+theta, 2*np.identity(20))\n",
    "grad_ss(100, np.zeros(20), 0.6, x_data, theta)"
   ]
  },
  {
   "cell_type": "markdown",
   "id": "jsdWJI9kKEO5",
   "metadata": {
    "id": "jsdWJI9kKEO5"
   },
   "source": [
    "# **3) DESCENTE DE GRADIENT**\n",
    "Test performances estimateur gradient ML-SS"
   ]
  },
  {
   "cell_type": "code",
   "execution_count": 23,
   "id": "SbxMSYrlKEoo",
   "metadata": {
    "id": "SbxMSYrlKEoo"
   },
   "outputs": [],
   "source": [
    "def gradient_descent(n_sim, mean, r, theta, precision, learning_rate = 0.01):\n",
    "  start = 0\n",
    "  gradient_update = []\n",
    "  gradient_update.append(grad_ss(n_sim, mean, r, x_data, theta))\n",
    "  iteration = 0\n",
    "  while gradient_update[iteration] - gradient_update[iteration - 1] >= precision:\n",
    "    gradient_update.append(gradient_update[iteration] - learning_rate * grad_ss(n_sim, gradient_update[iteration], r, x_data, theta))\n",
    "  return gradient_update[-1]"
   ]
  },
  {
   "cell_type": "markdown",
   "id": "eb474c71-dfe7-4e48-953c-dd4a41941751",
   "metadata": {
    "id": "eb474c71-dfe7-4e48-953c-dd4a41941751"
   },
   "source": [
    "# **4) FONCTION POUR PLOT LE GRADIENT ESTIME**"
   ]
  },
  {
   "cell_type": "code",
   "execution_count": 33,
   "id": "8850a228-0acf-4b60-8ddc-3c9302c47734",
   "metadata": {
    "id": "8850a228-0acf-4b60-8ddc-3c9302c47734"
   },
   "outputs": [],
   "source": [
    "def plot_grad(debut,fin,pas,n_sim,x_data):\n",
    "    for i in range(n_sim):\n",
    "        liste = np.linspace(debut,fin,pas)\n",
    "        x = []\n",
    "        y = []\n",
    "        for k in liste:\n",
    "            y.append(grad_ss(100, np.zeros(20)+k, 0.6, x_data, theta))\n",
    "            x.append(k)\n",
    "        print(str('{:.2f}'.format((i+1)/n_sim)))              \n",
    "    return x, y"
   ]
  },
  {
   "cell_type": "code",
   "execution_count": 34,
   "id": "b026e4e4-65e3-48e2-97b6-d9ff08b5916f",
   "metadata": {
    "colab": {
     "base_uri": "https://localhost:8080/",
     "height": 522
    },
    "id": "b026e4e4-65e3-48e2-97b6-d9ff08b5916f",
    "outputId": "da603831-921c-4ea9-a5f6-b9864cb35073",
    "scrolled": true
   },
   "outputs": [
    {
     "name": "stdout",
     "output_type": "stream",
     "text": [
      "Theta = 1.03\n",
      "0.33\n",
      "0.67\n",
      "1.00\n"
     ]
    },
    {
     "data": {
      "text/plain": [
       "[]"
      ]
     },
     "execution_count": 34,
     "metadata": {},
     "output_type": "execute_result"
    },
    {
     "data": {
      "image/png": "[encoded data removed]",
      "text/plain": [
       "<Figure size 640x480 with 1 Axes>"
      ]
     },
     "metadata": {},
     "output_type": "display_data"
    }
   ],
   "source": [
    "theta = np.random.normal(0,1)\n",
    "print(\"Theta = \" + str('{:.2f}'.format((theta))))\n",
    "x_data = np.random.multivariate_normal(np.zeros(20)+theta, 2*np.identity(20))\n",
    "x_grad,y_grad = plot_grad(debut=-4,fin=4,pas=30,n_sim=3,x_data=x_data)\n",
    "plt.scatter(x_grad,y_grad)\n",
    "plt.ylim((-10,10))\n",
    "plt.plot()"
   ]
  },
  {
   "cell_type": "markdown",
   "id": "_Q_KxAucyw2D",
   "metadata": {
    "id": "_Q_KxAucyw2D"
   },
   "source": [
    "# **5) ESTIMATION GRADIENT IWAE**\n",
    "\n",
    "CF FORMULE (11) ARTICLE"
   ]
  },
  {
   "cell_type": "code",
   "execution_count": null,
   "id": "tGzZbpVpyvp0",
   "metadata": {
    "colab": {
     "base_uri": "https://localhost:8080/",
     "height": 130
    },
    "id": "tGzZbpVpyvp0",
    "outputId": "a6367d82-30c1-4be9-d354-ffb32d7bf4f0"
   },
   "outputs": [],
   "source": [
    "def gradient_loglikelihood_gradient_estimator(n_sim, mean, r, x_data, theta):\n",
    "  w_bar = []      # vecteur qui contient les w_bar_i décrits dans l'équation (4) de l'article\n",
    "  x = np.random.multivariate_normal(np.zeros(20)+theta, 2*np.identity(20))\n",
    "  for i in range(n_sim):\n",
    "    K = np.random.geometric(r, 1)\n",
    "    z, z_O, z_E = generate_z(K,x_data)\n",
    "    q, p, q_O, p_O, q_E, p_E = generate_q_p(K,mean,x_data,z,z_O,z_E)\n",
    "    w = np.log(p) - np.log(q)\n",
    "  for i in range(len(w)):\n",
    "    w_bar[i] = n.exp(w[i]) / np.sum(np.exp(w))\n",
    "  IWAE_gradient_estimator = 0\n",
    "  for i range(len(z)):\n",
    "    IWAE_gradient_estimator += w_bar[i] * #gradient "
   ]
  }
 ],
 "metadata": {
  "colab": {
   "provenance": []
  },
  "kernelspec": {
   "display_name": "Python 3 (ipykernel)",
   "language": "python",
   "name": "python3"
  },
  "language_info": {
   "codemirror_mode": {
    "name": "ipython",
    "version": 3
   },
   "file_extension": ".py",
   "mimetype": "text/x-python",
   "name": "python",
   "nbconvert_exporter": "python",
   "pygments_lexer": "ipython3",
   "version": "3.9.13"
  }
 },
 "nbformat": 4,
 "nbformat_minor": 5
}
