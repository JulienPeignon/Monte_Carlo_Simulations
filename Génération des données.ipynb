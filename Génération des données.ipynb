{
 "cells": [
  {
   "cell_type": "code",
   "execution_count": 1,
   "id": "21c7f7bb",
   "metadata": {},
   "outputs": [],
   "source": [
    "import numpy as np\n",
    "from scipy.stats import multivariate_normal\n",
    "import random"
   ]
  },
  {
   "cell_type": "code",
   "execution_count": 2,
   "id": "6f629d1e",
   "metadata": {},
   "outputs": [],
   "source": [
    "mean = np.zeros(20)\n",
    "cov = np.identity(20)\n",
    "x = np.random.multivariate_normal(mean, 2*cov)"
   ]
  },
  {
   "cell_type": "code",
   "execution_count": 3,
   "id": "2d283e7d",
   "metadata": {},
   "outputs": [],
   "source": [
    "p=0.6\n",
    "K=np.random.geometric(p, 1)"
   ]
  },
  {
   "cell_type": "code",
   "execution_count": 4,
   "id": "43a46799",
   "metadata": {},
   "outputs": [],
   "source": [
    "A=1\n",
    "b=0\n",
    "z_O=[]\n",
    "z_E=[]"
   ]
  },
  {
   "cell_type": "code",
   "execution_count": 5,
   "id": "ac0a1f29",
   "metadata": {},
   "outputs": [],
   "source": [
    "for i in range(int(2**K)):\n",
    "    z_O.append(np.random.multivariate_normal(A*x+b, (2/3)*cov))"
   ]
  },
  {
   "cell_type": "code",
   "execution_count": 6,
   "id": "72ac3782",
   "metadata": {},
   "outputs": [],
   "source": [
    "for i in range(int(2**K)):\n",
    "    z_E.append(np.random.multivariate_normal(A*x+b, (2/3)*cov))"
   ]
  },
  {
   "cell_type": "code",
   "execution_count": 7,
   "id": "8f1e9bef",
   "metadata": {},
   "outputs": [],
   "source": [
    "z=z_O.copy()\n",
    "z.extend(z_E)"
   ]
  },
  {
   "cell_type": "code",
   "execution_count": 8,
   "id": "9399188a",
   "metadata": {},
   "outputs": [],
   "source": [
    "def q_zx(array):\n",
    "    return multivariate_normal.pdf(array, A*x+b, (2/3)*cov)"
   ]
  },
  {
   "cell_type": "code",
   "execution_count": 9,
   "id": "1fcb6269",
   "metadata": {},
   "outputs": [],
   "source": [
    "def p_zx(array):\n",
    "    return multivariate_normal.pdf(array, mean, cov)*multivariate_normal.pdf(x, array, cov)"
   ]
  },
  {
   "cell_type": "code",
   "execution_count": 10,
   "id": "0a944085",
   "metadata": {},
   "outputs": [],
   "source": [
    "w=[]\n",
    "for i in range(2**(int(K)+1)):\n",
    "    w.append(p_zx(z[i])/q_zx(z[i]))"
   ]
  },
  {
   "cell_type": "code",
   "execution_count": 11,
   "id": "ec71f761",
   "metadata": {},
   "outputs": [],
   "source": [
    "I_0=np.mean(np.log(w))"
   ]
  },
  {
   "cell_type": "code",
   "execution_count": 12,
   "id": "b795a9a7",
   "metadata": {},
   "outputs": [],
   "source": [
    "w_O=[]\n",
    "for i in range(2**(int(K))):\n",
    "    w_O.append(p_zx(z_O[i])/q_zx(z_O[i]))"
   ]
  },
  {
   "cell_type": "code",
   "execution_count": 13,
   "id": "7201d079",
   "metadata": {},
   "outputs": [],
   "source": [
    "w_E=[]\n",
    "for i in range(2**(int(K))):\n",
    "    w_E.append(p_zx(z_E[i])/q_zx(z_E[i]))"
   ]
  },
  {
   "cell_type": "code",
   "execution_count": 14,
   "id": "1f896c8b",
   "metadata": {},
   "outputs": [],
   "source": [
    "l_O=np.log(np.mean(np.exp(np.log(w_O))))\n",
    "l_E=np.log(np.mean(np.exp(np.log(w_E))))\n",
    "l=np.log(np.mean(np.exp(np.log(w))))"
   ]
  },
  {
   "cell_type": "markdown",
   "id": "42f475c2",
   "metadata": {},
   "source": [
    "ML-SS"
   ]
  },
  {
   "cell_type": "code",
   "execution_count": 15,
   "id": "cd7dfdda",
   "metadata": {},
   "outputs": [],
   "source": [
    "delta_K=l-(1/2)*(l_E+l_O)"
   ]
  },
  {
   "cell_type": "code",
   "execution_count": 16,
   "id": "a6ab73e7",
   "metadata": {},
   "outputs": [],
   "source": [
    "l_MLSS=I_0+delta_K/p*(1-p)**(int(K)-1)"
   ]
  },
  {
   "cell_type": "code",
   "execution_count": 17,
   "id": "b5e9365f",
   "metadata": {},
   "outputs": [
    {
     "data": {
      "text/plain": [
       "-43.62599589117418"
      ]
     },
     "execution_count": 17,
     "metadata": {},
     "output_type": "execute_result"
    }
   ],
   "source": [
    "l_MLSS"
   ]
  },
  {
   "cell_type": "markdown",
   "id": "f7cf484a",
   "metadata": {},
   "source": [
    "ML-RR"
   ]
  },
  {
   "cell_type": "code",
   "execution_count": 18,
   "id": "377d19d3",
   "metadata": {},
   "outputs": [],
   "source": [
    "def delta(k):\n",
    "    w_O_k = []\n",
    "    w_E_k = []\n",
    "    w_k=[]\n",
    "    for i in range(2**k):\n",
    "        w_O_k.append(p_zx(z_O[i])/q_zx(z_O[i]))\n",
    "        w_E_k.append(p_zx(z_E[i])/q_zx(z_E[i]))\n",
    "    for i in range(2**(k+1)):\n",
    "        w_k.append(p_zx(z[i])/q_zx(z[i]))\n",
    "    l_O_k = np.log(np.mean(np.exp(np.log(w_O_k))))\n",
    "    l_E_k = np.log(np.mean(np.exp(np.log(w_E_k))))\n",
    "    l_k = np.log(np.mean(np.exp(np.log(w_k))))\n",
    "    delta_k = l_k - (1/2)*(l_E_k + l_O_k)\n",
    "    return delta_k"
   ]
  },
  {
   "cell_type": "code",
   "execution_count": 19,
   "id": "f45ed39a",
   "metadata": {},
   "outputs": [],
   "source": [
    "sum_rr=0\n",
    "for i in range(int(K)):\n",
    "    sum_rr= sum_rr+ (delta(i)/(1-p)**i)"
   ]
  },
  {
   "cell_type": "code",
   "execution_count": 20,
   "id": "5848f5bc",
   "metadata": {},
   "outputs": [],
   "source": [
    "l_MLRR= sum_rr+I_0"
   ]
  },
  {
   "cell_type": "code",
   "execution_count": 21,
   "id": "28e385d2",
   "metadata": {},
   "outputs": [
    {
     "data": {
      "text/plain": [
       "-49.03854437322048"
      ]
     },
     "execution_count": 21,
     "metadata": {},
     "output_type": "execute_result"
    }
   ],
   "source": [
    "l_MLRR"
   ]
  },
  {
   "cell_type": "markdown",
   "id": "7dd2f480",
   "metadata": {},
   "source": [
    "SUMO"
   ]
  },
  {
   "cell_type": "code",
   "execution_count": 22,
   "id": "c1436e81",
   "metadata": {},
   "outputs": [],
   "source": [
    "def delta_sumo(k):\n",
    "    w_k2=[]\n",
    "    w_k1=[]\n",
    "    for i in range(2**(k+1)):\n",
    "        w_k1.append(p_zx(z[i])/q_zx(z[i]))\n",
    "    for i in range(2**(k+2)):\n",
    "        w_k2.append(p_zx(z[i])/q_zx(z[i]))\n",
    "    l_k1 = np.log(np.mean(np.exp(np.log(w_k1))))\n",
    "    l_k2 = np.log(np.mean(np.exp(np.log(w_k2))))\n",
    "    delta_k = l_k2-l_k1\n",
    "    return delta_k"
   ]
  },
  {
   "cell_type": "markdown",
   "id": "318f2c1e",
   "metadata": {},
   "source": [
    "jsp quel k poser....je prends K"
   ]
  },
  {
   "cell_type": "code",
   "execution_count": 23,
   "id": "e9e4a5f1",
   "metadata": {},
   "outputs": [],
   "source": [
    "sum_sumo=0\n",
    "for i in range(int(K)):\n",
    "    sum_sumo= sum_sumo+ (delta_sumo(i)/(1-p)**i)"
   ]
  },
  {
   "cell_type": "code",
   "execution_count": 24,
   "id": "d5ff39d0",
   "metadata": {},
   "outputs": [],
   "source": [
    "l_sumo= sum_sumo+I_0"
   ]
  },
  {
   "cell_type": "code",
   "execution_count": 25,
   "id": "7ec4f786",
   "metadata": {},
   "outputs": [
    {
     "data": {
      "text/plain": [
       "-42.10625622708622"
      ]
     },
     "execution_count": 25,
     "metadata": {},
     "output_type": "execute_result"
    }
   ],
   "source": [
    "l_sumo"
   ]
  }
 ],
 "metadata": {
  "kernelspec": {
   "display_name": "Python 3 (ipykernel)",
   "language": "python",
   "name": "python3"
  },
  "language_info": {
   "codemirror_mode": {
    "name": "ipython",
    "version": 3
   },
   "file_extension": ".py",
   "mimetype": "text/x-python",
   "name": "python",
   "nbconvert_exporter": "python",
   "pygments_lexer": "ipython3",
   "version": "3.9.13"
  }
 },
 "nbformat": 4,
 "nbformat_minor": 5
}
