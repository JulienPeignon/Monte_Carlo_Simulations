{
 "cells": [
  {
   "cell_type": "code",
   "execution_count": 39,
   "id": "8881d083-95db-45cd-8463-0e2028d6a4ae",
   "metadata": {},
   "outputs": [],
   "source": [
    "import numpy as np\n",
    "from scipy.stats import multivariate_normal\n",
    "from scipy.special import logsumexp\n",
    "import matplotlib.pyplot as plt\n",
    "from scipy.integrate import quad"
   ]
  },
  {
   "cell_type": "markdown",
   "id": "c7d2b9d5-32a8-4c79-b3cf-555252b32f96",
   "metadata": {},
   "source": [
    "# **1) GENERATION DES DONNEES**"
   ]
  },
  {
   "cell_type": "code",
   "execution_count": 2,
   "id": "9d9054c0-99a5-4a7c-88e7-390e8f9072bb",
   "metadata": {},
   "outputs": [],
   "source": [
    "def generate_z(A,b,K,cov,x):\n",
    "    z_O = []\n",
    "    z_E = []\n",
    "    for i in range(int(2**K)):\n",
    "        z_O.append(np.random.multivariate_normal(A*x+b, (2/3)*cov))\n",
    "        z_E.append(np.random.multivariate_normal(A*x+b, (2/3)*cov))\n",
    "    z = z_O.copy()\n",
    "    z.extend(z_E)\n",
    "    return z, z_O, z_E"
   ]
  },
  {
   "cell_type": "code",
   "execution_count": 3,
   "id": "0a60f984-e37f-466b-810e-04a3a6531242",
   "metadata": {},
   "outputs": [],
   "source": [
    "def generate_q_p(A,b,K,mean,cov,x,z,z_O,z_E):\n",
    "    q = []\n",
    "    p = []\n",
    "    q_O = []\n",
    "    p_O = []\n",
    "    q_E = []\n",
    "    p_E = []\n",
    "    for i in range(int(2**(K+1))):\n",
    "        q.append(multivariate_normal.pdf(z[i], mean=A*x+b, cov=(2/3)*cov))\n",
    "        p.append(multivariate_normal.pdf(z[i], mean=mean, cov=cov)*multivariate_normal.pdf(x, mean=z[i], cov=cov))\n",
    "    for i in range(int(2**(K))):\n",
    "        q_O.append(multivariate_normal.pdf(z_O[i], mean=A*x+b, cov=(2/3)*cov))\n",
    "        p_O.append(multivariate_normal.pdf(z_O[i], mean=mean, cov=cov)*multivariate_normal.pdf(x, mean=z_O[i], cov=cov))\n",
    "        q_E.append(multivariate_normal.pdf(z_E[i], mean=A*x+b, cov=(2/3)*cov))\n",
    "        p_E.append(multivariate_normal.pdf(z_E[i], mean=mean, cov=cov)*multivariate_normal.pdf(x, mean=z_E[i], cov=cov))\n",
    "    return q, p, q_O, p_O, q_E, p_E"
   ]
  },
  {
   "cell_type": "code",
   "execution_count": 42,
   "id": "9b5e8ecc-2f9e-427f-a34c-d6a626895333",
   "metadata": {},
   "outputs": [],
   "source": [
    "#x = np.random.multivariate_normal(np.zeros(20), 2*np.identity(20))\n",
    "#z, z_O, z_E = generate_z(1,0,5,np.identity(20),x)\n",
    "#q, p, q_O, p_O, q_E, p_E = generate_q_p(1,0,5,np.zeros(20), np.identity(20),x,z,z_O,z_E)\n",
    "#w = np.log(p) - np.log(q)"
   ]
  },
  {
   "cell_type": "markdown",
   "id": "484a8653-88b4-451c-98e9-37f4473789e4",
   "metadata": {},
   "source": [
    "# **2) FONCTIONS**"
   ]
  },
  {
   "cell_type": "code",
   "execution_count": 45,
   "id": "a3ea93c0-e28b-4015-a5a4-c2c78a2e9aba",
   "metadata": {},
   "outputs": [],
   "source": [
    "def sum_w(k,w):\n",
    "    sum_w=0\n",
    "    for i in range(k):\n",
    "        sum_w += np.exp(w[i])\n",
    "    return sum_w"
   ]
  },
  {
   "cell_type": "code",
   "execution_count": 57,
   "id": "d0606d96-0924-45aa-9d48-3532b55aa2f5",
   "metadata": {},
   "outputs": [],
   "source": [
    "def iwae(n_sim,k,mean,cov,theta):\n",
    "    iwae=[]\n",
    "    x = np.random.multivariate_normal(np.zeros(20)+theta, 2*cov)\n",
    "    for i in range(n_sim):\n",
    "        log_sum=0\n",
    "        z, z_O, z_E = generate_z(1,0,k,cov,x)\n",
    "        q, p, q_O, p_O, q_E, p_E = generate_q_p(1,0,k,mean,cov,x,z,z_O,z_E)\n",
    "        w = np.log(p) - np.log(q)\n",
    "        log_sum = np.log(sum_w(k,w))-np.log(k)\n",
    "        iwae.append(log_sum)\n",
    "    return np.mean(iwae)"
   ]
  },
  {
   "cell_type": "code",
   "execution_count": 58,
   "id": "bce14de8-bfb5-48b7-a4ee-70375c557903",
   "metadata": {},
   "outputs": [
    {
     "data": {
      "text/plain": [
       "-33.67828279839485"
      ]
     },
     "execution_count": 58,
     "metadata": {},
     "output_type": "execute_result"
    }
   ],
   "source": [
    "iwae(100,5,np.zeros(20),np.identity(20),theta)"
   ]
  },
  {
   "cell_type": "markdown",
   "id": "a97ce86b-af23-4f28-ba68-3e22e0ead3c4",
   "metadata": {},
   "source": [
    "# **3) FONCTION POUR PLOT LA LIKELIHOOD ESTIMEE**"
   ]
  },
  {
   "cell_type": "code",
   "execution_count": 61,
   "id": "223dc2f2-ec5c-400a-ab42-44585c4a13da",
   "metadata": {},
   "outputs": [],
   "source": [
    "def plot_iwae(debut,fin,pas,n_sim):\n",
    "    theta = np.random.normal(0,1)\n",
    "    print(theta)\n",
    "    for i in range(n_sim):\n",
    "        liste = np.linspace(debut,fin,pas)\n",
    "        x = []\n",
    "        y = []\n",
    "        for k in liste:\n",
    "            y.append(iwae(100,5,np.zeros(20)+k,np.identity(20),theta))\n",
    "            x.append(k)\n",
    "        print((i+1)/n_sim) \n",
    "    return x, y"
   ]
  },
  {
   "cell_type": "code",
   "execution_count": 63,
   "id": "f1e60edc-cb18-4d5c-9971-267469a2b8fb",
   "metadata": {},
   "outputs": [
    {
     "name": "stdout",
     "output_type": "stream",
     "text": [
      "0.8931218599674512\n",
      "0.3333333333333333\n",
      "0.6666666666666666\n",
      "1.0\n"
     ]
    },
    {
     "data": {
      "text/plain": [
       "<matplotlib.collections.PathCollection at 0x1d5cc9dd8b0>"
      ]
     },
     "execution_count": 63,
     "metadata": {},
     "output_type": "execute_result"
    },
    {
     "data": {
      "image/png": "[encoded data removed]",
      "text/plain": [
       "<Figure size 640x480 with 1 Axes>"
      ]
     },
     "metadata": {},
     "output_type": "display_data"
    }
   ],
   "source": [
    "x,y = plot_iwae(-4,4,30,3)\n",
    "plt.scatter(x,y)"
   ]
  }
 ],
 "metadata": {
  "kernelspec": {
   "display_name": "Python 3 (ipykernel)",
   "language": "python",
   "name": "python3"
  },
  "language_info": {
   "codemirror_mode": {
    "name": "ipython",
    "version": 3
   },
   "file_extension": ".py",
   "mimetype": "text/x-python",
   "name": "python",
   "nbconvert_exporter": "python",
   "pygments_lexer": "ipython3",
   "version": "3.9.13"
  }
 },
 "nbformat": 4,
 "nbformat_minor": 5
}
