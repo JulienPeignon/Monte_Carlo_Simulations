{
 "cells": [
  {
   "cell_type": "markdown",
   "id": "4dc38cde-e6e0-4dc4-a8b9-f88482fa22d2",
   "metadata": {},
   "source": [
    "J'essaye de refaire la partie **7.1 Linear Gaussian Experiment** à partir du code de Yuyang Shi (https://github.com/yuyang-shi/MLMC_Gradients) et en suivant les étapes de l'algorithme 1."
   ]
  },
  {
   "cell_type": "code",
   "execution_count": 7,
   "id": "c110a7dc-747c-47ee-8dcb-1876a0c2f41e",
   "metadata": {
    "collapsed": true,
    "jupyter": {
     "outputs_hidden": true
    },
    "tags": []
   },
   "outputs": [
    {
     "name": "stdout",
     "output_type": "stream",
     "text": [
      "Collecting pybrain\n",
      "  Downloading PyBrain-0.3.tar.gz (262 kB)\n",
      "     -------------------------------------- 262.1/262.1 kB 5.4 MB/s eta 0:00:00\n",
      "  Preparing metadata (setup.py): started\n",
      "  Preparing metadata (setup.py): finished with status 'done'\n",
      "Building wheels for collected packages: pybrain\n",
      "  Building wheel for pybrain (setup.py): started\n",
      "  Building wheel for pybrain (setup.py): finished with status 'done'\n",
      "  Created wheel for pybrain: filename=PyBrain-0.3-py3-none-any.whl size=399012 sha256=387aba031ffcd23d64966fe58fa81cc2452831a70d7697c069be59deb646f267\n",
      "  Stored in directory: c:\\users\\peign\\appdata\\local\\pip\\cache\\wheels\\61\\2f\\96\\4efbe44e973e830f8425e0ea56e77aa1277fc24dc5a8c0ebe8\n",
      "Successfully built pybrain\n",
      "Installing collected packages: pybrain\n",
      "Successfully installed pybrain-0.3\n"
     ]
    }
   ],
   "source": [
    "!pip install torch"
   ]
  },
  {
   "cell_type": "code",
   "execution_count": 29,
   "id": "cea49753-bbe9-427d-bb86-a0afb1886768",
   "metadata": {
    "tags": []
   },
   "outputs": [],
   "source": [
    "import numpy as np\n",
    "import torch\n",
    "from torch.distributions import MultivariateNormal\n",
    "from torch.distributions import Independent, Normal"
   ]
  },
  {
   "cell_type": "code",
   "execution_count": 76,
   "id": "51f4fc7e-116c-4201-90bd-f4f2602dc47e",
   "metadata": {},
   "outputs": [],
   "source": [
    "latent_dim = 20\n",
    "size = 50\n",
    "theta_true = torch.ones(latent_dim)"
   ]
  },
  {
   "cell_type": "code",
   "execution_count": 77,
   "id": "cb5d61ce-cf0a-421a-9da2-bdf1a389c093",
   "metadata": {},
   "outputs": [],
   "source": [
    "z = MultivariateNormal(theta_true, torch.eye(latent_dim)).sample((size,))\n",
    "x = MultivariateNormal(z, torch.eye(latent_dim)).sample()"
   ]
  },
  {
   "cell_type": "code",
   "execution_count": 78,
   "id": "ff104f65-54bd-4d8a-afb5-35df9728fb02",
   "metadata": {},
   "outputs": [],
   "source": [
    "def compute_log_p_q(x, z):\n",
    "    # définir les distributions p et q\n",
    "    mu_p = torch.cat((x, z), dim=1)\n",
    "    mu_q = z\n",
    "    cov_p = torch.eye(x.shape[1] + z.shape[1])\n",
    "    cov_p[:x.shape[1], :x.shape[1]] = torch.eye(x.shape[1])\n",
    "    cov_q = torch.eye(z.shape[1])\n",
    "\n",
    "    # calculer log(p)\n",
    "    dist_p = MultivariateNormal(mu_p, cov_p)\n",
    "    log_p = dist_p.log_prob(torch.cat((x, z), dim=-1)).view(-1, 2, 1, 1)\n",
    "    # calculer log(q)\n",
    "    dist_q = MultivariateNormal(mu_q, cov_q)\n",
    "    log_q = dist_q.log_prob(z).view(-1, 2, 1, 1)\n",
    "    \n",
    "    return log_p, log_q"
   ]
  },
  {
   "cell_type": "code",
   "execution_count": 79,
   "id": "1c67ffd4-300a-4237-af1b-b4be6690ced1",
   "metadata": {},
   "outputs": [],
   "source": [
    "# Les paramètres à définir pour calculer l'estimateur\n",
    "geom_prob = 0.6\n",
    "K_cap = np.inf\n",
    "I0_start_level = 0\n",
    "K=1\n",
    "\n",
    "def _iwae(log_w):\n",
    "    return - logmeanexp(log_w, dim=-2)"
   ]
  },
  {
   "cell_type": "code",
   "execution_count": 80,
   "id": "0bdedd31-52b2-4d68-89e7-1c946f46453a",
   "metadata": {
    "tags": []
   },
   "outputs": [],
   "source": [
    "log_p, log_q = compute_log_p_q(x, z)\n",
    "log_w = log_p - log_q"
   ]
  },
  {
   "cell_type": "code",
   "execution_count": 81,
   "id": "63551589-3b07-45d8-bdcf-e6bff54f8fdb",
   "metadata": {},
   "outputs": [],
   "source": [
    "def ss(log_w, K, I0_start_level, train_function=_iwae):\n",
    "    #first step : generate K as a geometric random variable\n",
    "    K_pmf = lambda k: geom_prob * (1 - geom_prob) ** k / (\n",
    "                    1 - (1 - geom_prob) ** (K_cap + 1))\n",
    "    #second step : compute log(w)\n",
    "    log_w = log_w.view(log_w.shape[0], 2 ** (K + 1), 2 ** I0_start_level, 1)\n",
    "    \n",
    "    #third step : compute I0\n",
    "    I0 = train_function(log_w).mean(dim=1)\n",
    "\n",
    "    #fourth step : compute Lo and Le\n",
    "        # Lo\n",
    "    log_w = log_w.view(log_w.shape[0], 2, 2 ** (K + I0_start_level), 1)\n",
    "    lower_level_term = train_function(log_w).mean(dim=1)\n",
    "        #Le\n",
    "    log_w = log_w.view(log_w.shape[0], 2 ** (K + I0_start_level + 1), 1)\n",
    "    upper_level_term = train_function(log_w)\n",
    "    \n",
    "    #fifth step : compute DeltaK\n",
    "    Delta_K = upper_level_term - lower_level_term\n",
    "    \n",
    "    #sixth step : compute the final estimator\n",
    "    ml_ll_ss = I0 + Delta_K / K_pmf(K)\n",
    "\n",
    "    return ml_ll_ss"
   ]
  },
  {
   "cell_type": "code",
   "execution_count": 82,
   "id": "4a4e3e4c-3402-4f92-8997-6c6158eb647c",
   "metadata": {},
   "outputs": [
    {
     "ename": "RuntimeError",
     "evalue": "shape '[25, 4, 1, 1]' is invalid for input of size 50",
     "output_type": "error",
     "traceback": [
      "\u001b[1;31m---------------------------------------------------------------------------\u001b[0m",
      "\u001b[1;31mRuntimeError\u001b[0m                              Traceback (most recent call last)",
      "\u001b[1;32m~\\AppData\\Local\\Temp\\ipykernel_9944\\4073261022.py\u001b[0m in \u001b[0;36m<module>\u001b[1;34m\u001b[0m\n\u001b[1;32m----> 1\u001b[1;33m \u001b[0mss\u001b[0m\u001b[1;33m(\u001b[0m\u001b[0mlog_w\u001b[0m\u001b[1;33m,\u001b[0m \u001b[0mK\u001b[0m\u001b[1;33m,\u001b[0m \u001b[0mI0_start_level\u001b[0m\u001b[1;33m)\u001b[0m\u001b[1;33m\u001b[0m\u001b[1;33m\u001b[0m\u001b[0m\n\u001b[0m",
      "\u001b[1;32m~\\AppData\\Local\\Temp\\ipykernel_9944\\2148345368.py\u001b[0m in \u001b[0;36mss\u001b[1;34m(log_w, K, I0_start_level, train_function)\u001b[0m\n\u001b[0;32m      4\u001b[0m                     1 - (1 - geom_prob) ** (K_cap + 1))\n\u001b[0;32m      5\u001b[0m     \u001b[1;31m#second step : compute log(w)\u001b[0m\u001b[1;33m\u001b[0m\u001b[1;33m\u001b[0m\u001b[0m\n\u001b[1;32m----> 6\u001b[1;33m     \u001b[0mlog_w\u001b[0m \u001b[1;33m=\u001b[0m \u001b[0mlog_w\u001b[0m\u001b[1;33m.\u001b[0m\u001b[0mview\u001b[0m\u001b[1;33m(\u001b[0m\u001b[0mlog_w\u001b[0m\u001b[1;33m.\u001b[0m\u001b[0mshape\u001b[0m\u001b[1;33m[\u001b[0m\u001b[1;36m0\u001b[0m\u001b[1;33m]\u001b[0m\u001b[1;33m,\u001b[0m \u001b[1;36m2\u001b[0m \u001b[1;33m**\u001b[0m \u001b[1;33m(\u001b[0m\u001b[0mK\u001b[0m \u001b[1;33m+\u001b[0m \u001b[1;36m1\u001b[0m\u001b[1;33m)\u001b[0m\u001b[1;33m,\u001b[0m \u001b[1;36m2\u001b[0m \u001b[1;33m**\u001b[0m \u001b[0mI0_start_level\u001b[0m\u001b[1;33m,\u001b[0m \u001b[1;36m1\u001b[0m\u001b[1;33m)\u001b[0m\u001b[1;33m\u001b[0m\u001b[1;33m\u001b[0m\u001b[0m\n\u001b[0m\u001b[0;32m      7\u001b[0m \u001b[1;33m\u001b[0m\u001b[0m\n\u001b[0;32m      8\u001b[0m     \u001b[1;31m#third step : compute I0\u001b[0m\u001b[1;33m\u001b[0m\u001b[1;33m\u001b[0m\u001b[0m\n",
      "\u001b[1;31mRuntimeError\u001b[0m: shape '[25, 4, 1, 1]' is invalid for input of size 50"
     ]
    }
   ],
   "source": [
    "ss(log_w, K, I0_start_level)"
   ]
  }
 ],
 "metadata": {
  "kernelspec": {
   "display_name": "Python 3 (ipykernel)",
   "language": "python",
   "name": "python3"
  },
  "language_info": {
   "codemirror_mode": {
    "name": "ipython",
    "version": 3
   },
   "file_extension": ".py",
   "mimetype": "text/x-python",
   "name": "python",
   "nbconvert_exporter": "python",
   "pygments_lexer": "ipython3",
   "version": "3.9.13"
  }
 },
 "nbformat": 4,
 "nbformat_minor": 5
}
